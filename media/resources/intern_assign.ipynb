{
 "cells": [
  {
   "cell_type": "code",
   "execution_count": 1,
   "id": "4efb41c6",
   "metadata": {},
   "outputs": [],
   "source": [
    "a = [ {\"Dg set\": \"Diesel generator\"}, {\"Organization\": \"Organisation\"}, {\"Group\": \"Organization\"}, {\"Orange\": \"Kinnu\"}, {\"Orange\": \"narangi\"} ] "
   ]
  },
  {
   "cell_type": "code",
   "execution_count": 2,
   "id": "c863a3f5",
   "metadata": {},
   "outputs": [
    {
     "data": {
      "text/plain": [
       "[{'Dg set': 'Diesel generator'},\n",
       " {'Organization': 'Organisation'},\n",
       " {'Group': 'Organization'},\n",
       " {'Orange': 'Kinnu'},\n",
       " {'Orange': 'narangi'}]"
      ]
     },
     "execution_count": 2,
     "metadata": {},
     "output_type": "execute_result"
    }
   ],
   "source": [
    "a"
   ]
  },
  {
   "cell_type": "code",
   "execution_count": 3,
   "id": "3fca0b44",
   "metadata": {},
   "outputs": [],
   "source": [
    "def func(a):\n",
    "    ans = []\n",
    "    flag = False\n",
    "    for i in a:\n",
    "        for key,value in i.items():\n",
    "            if len(ans)==0:\n",
    "                ans.append([key,value])\n",
    "            for  j in ans:\n",
    "                if key in j:\n",
    "                    flag = True\n",
    "                    j.append(value)\n",
    "                elif value in j:\n",
    "                    flag = True\n",
    "                    j.append(key)\n",
    "                else:\n",
    "                    flag=False\n",
    "            if flag==False:  \n",
    "                ans.append([key,value])\n",
    "    return ans"
   ]
  },
  {
   "cell_type": "code",
   "execution_count": 1,
   "id": "77cbe06a",
   "metadata": {},
   "outputs": [],
   "source": [
    "from PIL import Image"
   ]
  },
  {
   "cell_type": "code",
   "execution_count": null,
   "id": "5608eed4",
   "metadata": {},
   "outputs": [],
   "source": [
    "img.save()"
   ]
  },
  {
   "cell_type": "code",
   "execution_count": null,
   "id": "7dfa0728",
   "metadata": {},
   "outputs": [],
   "source": [
    "from Bio.PDB import PDBParser\n",
    "\n",
    "\n",
    "p = PDBParser()\n",
    "s = p.get_structure(\"4K5Y\", \"4K5Y.pdb\")                    \n",
    "\n",
    "for chains in s:\n",
    "    for chain in chains:\n",
    "        for residue in chain:                             \n",
    "            for atom in residue:\n",
    "                print(atom.get_vector())"
   ]
  },
  {
   "cell_type": "code",
   "execution_count": 4,
   "id": "f07d29cc",
   "metadata": {},
   "outputs": [
    {
     "data": {
      "text/plain": [
       "[['Dg set', 'Diesel generator', 'Diesel generator'],\n",
       " ['Organization', 'Organisation', 'Group'],\n",
       " ['Orange', 'Kinnu', 'narangi']]"
      ]
     },
     "execution_count": 4,
     "metadata": {},
     "output_type": "execute_result"
    }
   ],
   "source": [
    "func(a)"
   ]
  }
 ],
 "metadata": {
  "kernelspec": {
   "display_name": "Python 3 (ipykernel)",
   "language": "python",
   "name": "python3"
  },
  "language_info": {
   "codemirror_mode": {
    "name": "ipython",
    "version": 3
   },
   "file_extension": ".py",
   "mimetype": "text/x-python",
   "name": "python",
   "nbconvert_exporter": "python",
   "pygments_lexer": "ipython3",
   "version": "3.9.7"
  }
 },
 "nbformat": 4,
 "nbformat_minor": 5
}
